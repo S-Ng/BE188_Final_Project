{
 "cells": [
  {
   "cell_type": "markdown",
   "metadata": {},
   "source": [
    "# Format Data"
   ]
  },
  {
   "cell_type": "code",
   "execution_count": 189,
   "metadata": {
    "scrolled": false
   },
   "outputs": [
    {
     "name": "stdout",
     "output_type": "stream",
     "text": [
      "X with zeros\n",
      "\n",
      " [[5.72387791 2.52134585 3.93073678 ... 0.         3.43214989 0.        ]\n",
      " [5.75481033 3.0397377  3.95931864 ... 0.         0.         0.        ]\n",
      " [6.4440918  3.59008694 3.56273603 ... 2.37579942 2.11841154 0.        ]\n",
      " ...\n",
      " [5.39483166 3.5583303  3.4165566  ... 0.         0.         0.        ]\n",
      " [5.02169514 3.87967634 3.37924719 ... 0.         0.         2.22802568]\n",
      " [5.0630908  3.98612881 4.14207935 ... 0.         0.         0.        ]]\n",
      "\n",
      "X with averages\n",
      "\n",
      " [[5.72387791 2.52134585 3.93073678 ... 2.546655   3.43214989 2.92841819]\n",
      " [5.75481033 3.0397377  3.95931864 ... 2.546655   3.32148784 2.92841819]\n",
      " [6.4440918  3.59008694 3.56273603 ... 2.37579942 2.11841154 2.92841819]\n",
      " ...\n",
      " [5.39483166 3.5583303  3.4165566  ... 2.546655   3.32148784 2.92841819]\n",
      " [5.02169514 3.87967634 3.37924719 ... 2.546655   3.32148784 2.22802568]\n",
      " [5.0630908  3.98612881 4.14207935 ... 2.546655   3.32148784 2.92841819]]\n"
     ]
    }
   ],
   "source": [
    "# Get X data and fill in averages\n",
    "import scipy as sp, numpy as np\n",
    "from sklearn.preprocessing import scale, StandardScaler\n",
    "from sklearn.cross_decomposition import PLSRegression\n",
    "from sklearn.model_selection import LeaveOneGroupOut, LeaveOneOut\n",
    "import matplotlib.pyplot as plt\n",
    "X0 = sp.io.loadmat('X48_0T.mat')['X_data_0T']\n",
    "X_avg = X0\n",
    "print('X with zeros\\n\\n', X0)\n",
    "num_col = len(X0[0, :])\n",
    "num_row = len(X0[:, 0])\n",
    "for col in range(num_col): # columns\n",
    "    Num_NonZero = 0\n",
    "    for row in range(num_row): # rows\n",
    "        if X0[row, col] == 0:\n",
    "            Num_NonZero = Num_NonZero + 1\n",
    "    if Num_NonZero != 25:\n",
    "        Row_Avg = np.mean(X0[:,col])*25/(25-Num_NonZero)\n",
    "\n",
    "        for row in range(num_row): # rows\n",
    "            if X0[row, col] == 0:\n",
    "                X_avg[row, col] = Row_Avg;\n",
    "print('\\nX with averages\\n\\n', X_avg)"
   ]
  },
  {
   "cell_type": "code",
   "execution_count": 197,
   "metadata": {},
   "outputs": [],
   "source": [
    "# Get Y data w/ Matlab\n",
    "Y = sp.io.loadmat('Y48_3T.mat')['Y_data_T'] # function_workspace isn't right\n",
    "\n",
    "Time48 = Y[:, 0] # measurement time\n",
    "Dose48 = Y[:,1] # radiation exposure in Gray\n",
    "Patients48 = Y[:, 2]; # patient number"
   ]
  },
  {
   "cell_type": "code",
   "execution_count": 58,
   "metadata": {},
   "outputs": [
    {
     "ename": "ValueError",
     "evalue": "I/O operation on closed file.",
     "output_type": "error",
     "traceback": [
      "\u001b[1;31m---------------------------------------------------------------------------\u001b[0m",
      "\u001b[1;31mValueError\u001b[0m                                Traceback (most recent call last)",
      "\u001b[1;32m<ipython-input-58-2d0b3cf6e465>\u001b[0m in \u001b[0;36m<module>\u001b[1;34m\u001b[0m\n\u001b[0;32m      3\u001b[0m     \u001b[0mYdata\u001b[0m \u001b[1;33m=\u001b[0m \u001b[0mcsv\u001b[0m\u001b[1;33m.\u001b[0m\u001b[0mreader\u001b[0m\u001b[1;33m(\u001b[0m\u001b[0mcsvfile\u001b[0m\u001b[1;33m,\u001b[0m \u001b[0mdelimiter\u001b[0m\u001b[1;33m=\u001b[0m\u001b[1;34m' '\u001b[0m\u001b[1;33m,\u001b[0m \u001b[0mquotechar\u001b[0m\u001b[1;33m=\u001b[0m\u001b[1;34m'|'\u001b[0m\u001b[1;33m)\u001b[0m\u001b[1;33m\u001b[0m\u001b[1;33m\u001b[0m\u001b[0m\n\u001b[0;32m      4\u001b[0m \u001b[0mY_data\u001b[0m \u001b[1;33m=\u001b[0m \u001b[0mnp\u001b[0m\u001b[1;33m.\u001b[0m\u001b[0mzeros\u001b[0m\u001b[1;33m(\u001b[0m\u001b[1;36m27\u001b[0m\u001b[1;33m)\u001b[0m\u001b[1;33m\u001b[0m\u001b[1;33m\u001b[0m\u001b[0m\n\u001b[1;32m----> 5\u001b[1;33m \u001b[1;32mfor\u001b[0m \u001b[0mi\u001b[0m\u001b[1;33m,\u001b[0m \u001b[0mrow\u001b[0m \u001b[1;32min\u001b[0m \u001b[0menumerate\u001b[0m\u001b[1;33m(\u001b[0m\u001b[0mYdata\u001b[0m\u001b[1;33m)\u001b[0m\u001b[1;33m:\u001b[0m\u001b[1;33m\u001b[0m\u001b[1;33m\u001b[0m\u001b[0m\n\u001b[0m\u001b[0;32m      6\u001b[0m     \u001b[0mY_data\u001b[0m\u001b[1;33m[\u001b[0m\u001b[0mi\u001b[0m\u001b[1;33m]\u001b[0m \u001b[1;32mis\u001b[0m \u001b[0mrow\u001b[0m\u001b[1;33m[\u001b[0m\u001b[1;36m0\u001b[0m\u001b[1;33m]\u001b[0m\u001b[1;33m\u001b[0m\u001b[1;33m\u001b[0m\u001b[0m\n\u001b[0;32m      7\u001b[0m \u001b[0mprint\u001b[0m\u001b[1;33m(\u001b[0m\u001b[0mY_data\u001b[0m\u001b[1;33m)\u001b[0m\u001b[1;33m\u001b[0m\u001b[1;33m\u001b[0m\u001b[0m\n",
      "\u001b[1;31mValueError\u001b[0m: I/O operation on closed file."
     ]
    }
   ],
   "source": [
    "# Could try to get Y data w/ CSV\n",
    "import csv\n",
    "with open('BE188_Y48_Data.csv', newline='') as csvfile:\n",
    "    Ydata = csv.reader(csvfile, delimiter=' ', quotechar='|')\n",
    "Y_data = np.zeros(27)\n",
    "for i, row in enumerate(Ydata):\n",
    "    Y_data[i] is row[0]\n",
    "print(Y_data)"
   ]
  },
  {
   "cell_type": "code",
   "execution_count": null,
   "metadata": {},
   "outputs": [],
   "source": []
  }
 ],
 "metadata": {
  "kernelspec": {
   "display_name": "Python 3",
   "language": "python",
   "name": "python3"
  },
  "language_info": {
   "codemirror_mode": {
    "name": "ipython",
    "version": 3
   },
   "file_extension": ".py",
   "mimetype": "text/x-python",
   "name": "python",
   "nbconvert_exporter": "python",
   "pygments_lexer": "ipython3",
   "version": "3.7.1"
  }
 },
 "nbformat": 4,
 "nbformat_minor": 2
}
