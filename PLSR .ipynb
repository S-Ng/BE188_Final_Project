{
 "cells": [
  {
   "cell_type": "code",
   "execution_count": null,
   "metadata": {},
   "outputs": [],
   "source": [
    "import scipy as sp, numpy as np\n",
    "from sklearn.preprocessing import scale, StandardScaler\n",
    "from sklearn.cross_decomposition import PLSRegression\n",
    "from sklearn.model_selection import LeaveOneGroupOut, LeaveOneOut\n",
    "from sklearn.metrics import r2_score\n",
    "import matplotlib.pyplot as plt"
   ]
  },
  {
   "cell_type": "code",
   "execution_count": null,
   "metadata": {},
   "outputs": [],
   "source": [
    "Xnorm = np.zeros((66,102))\n",
    "for c in range(102):\n",
    "    Xnorm[:,c] = sp.stats.zscore(X[:,c])  # normalize the X data\n",
    "Ynorm = sp.stats.zscore(Y)  # normalize the Y data\n",
    "variance_array = np.zeros(10) # calculate variance with different numbers of PLSR\n",
    "for i in range(1,11):\n",
    "    plsri = PLSRegression(n_components=i)\n",
    "    plsri.fit(Xnorm,Ynorm)\n",
    "    variance_array[i-1] = 100*plsri.score(Xnorm,Ynorm)\n",
    "plt.scatter(range(1,11),variance_array)\n",
    "\n",
    "# need to use plsri.predict in order to predict -> use arbitrary thresholds to categorize into \n",
    "line = [90,90,90,90,90,90,90,90,90,90]\n",
    "plt.plot(range(1,11),line)\n",
    "plt.xlabel(\"Principal Components\")\n",
    "plt.ylabel(\"Percent Variance Explained\")\n",
    "plt.show()"
   ]
  }
 ],
 "metadata": {
  "kernelspec": {
   "display_name": "Python 3",
   "language": "python",
   "name": "python3"
  },
  "language_info": {
   "codemirror_mode": {
    "name": "ipython",
    "version": 3
   },
   "file_extension": ".py",
   "mimetype": "text/x-python",
   "name": "python",
   "nbconvert_exporter": "python",
   "pygments_lexer": "ipython3",
   "version": "3.7.1"
  }
 },
 "nbformat": 4,
 "nbformat_minor": 2
}
