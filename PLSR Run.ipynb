{
 "cells": [
  {
   "cell_type": "code",
   "execution_count": null,
   "metadata": {},
   "outputs": [],
   "source": [
    "import scipy as sp, numpy as np\n",
    "from sklearn.preprocessing import scale, StandardScaler\n",
    "from sklearn.cross_decomposition import PLSRegression\n",
    "from sklearn.linear_model import Lasso\n",
    "from sklearn.model_selection import LeaveOneGroupOut, LeaveOneOut\n",
    "from sklearn.metrics import r2_score\n",
    "import matplotlib.pyplot as plt\n",
    "import copy"
   ]
  },
  {
   "cell_type": "markdown",
   "metadata": {},
   "source": [
    "# Manipulate the Data into a Usable Format"
   ]
  },
  {
   "cell_type": "markdown",
   "metadata": {},
   "source": [
    "For X matrix:"
   ]
  },
  {
   "cell_type": "code",
   "execution_count": null,
   "metadata": {},
   "outputs": [],
   "source": [
    "X0 = sp.io.loadmat('X48_0T.mat')['X_data_0T']\n",
    "X_avg = copy.deepcopy(X0)\n",
    "num_col = len(X0[0, :])\n",
    "num_row = len(X0[:, 0])\n",
    "for col in range(num_col): # columns\n",
    "    Num_NonZero = 0\n",
    "    for row in range(num_row): # rows\n",
    "        if X0[row, col] == 0:\n",
    "            Num_NonZero = Num_NonZero + 1\n",
    "    if Num_NonZero != 25:\n",
    "        Row_Avg = np.mean(X0[:,col])*25/(25-Num_NonZero)\n",
    "\n",
    "        for row in range(num_row): # rows\n",
    "            if X0[row, col] == 0:\n",
    "                X_avg[row, col] = Row_Avg;\n",
    "print('X with zeros\\n\\n', X0)\n",
    "print('\\nX with averages\\n\\n', X_avg)"
   ]
  },
  {
   "cell_type": "markdown",
   "metadata": {},
   "source": [
    "For Y matrix:"
   ]
  },
  {
   "cell_type": "code",
   "execution_count": null,
   "metadata": {},
   "outputs": [],
   "source": [
    "Y = sp.io.loadmat('Y48_T.mat')['Y_data_T'] # function_workspace isn't right\n",
    "\n",
    "Time48 = Y[:, 0] # measurement time\n",
    "Dose48 = Y[:,1] # radiation exposure in Gray\n",
    "Patients48 = Y[:, 2]; # patient number\n",
    "\n",
    "# Get indices of each dosage\n",
    "i0_5 = np.where(Dose48 == 0.5)[0]\n",
    "i0 = np.where(Dose48 == 0)[0]\n",
    "i2 = np.where(Dose48 == 2)[0]\n",
    "i5 = np.where(Dose48 == 5)[0]\n",
    "i8 = np.where(Dose48 == 8)[0]"
   ]
  },
  {
   "cell_type": "markdown",
   "metadata": {},
   "source": [
    "Normalize both the X and Y data for PLSR"
   ]
  },
  {
   "cell_type": "code",
   "execution_count": null,
   "metadata": {},
   "outputs": [],
   "source": [
    "X0norm = np.zeros((25,41094))\n",
    "for c in range(41094):\n",
    "    if np.sum(X0[:,c]) != 0:\n",
    "        X0norm[:,c] = sp.stats.zscore(X0[:,c])  # normalize the X data\n",
    "Dose48norm = sp.stats.zscore(Dose48)  # normalize the Y data"
   ]
  },
  {
   "cell_type": "markdown",
   "metadata": {},
   "source": [
    "Do PLSR on the normalized data:"
   ]
  },
  {
   "cell_type": "code",
   "execution_count": null,
   "metadata": {},
   "outputs": [],
   "source": [
    "variance_array = np.zeros(10) # calculate variance with different numbers of PLSR\n",
    "for i in range(1,11):\n",
    "    plsri = PLSRegression(n_components=i)\n",
    "    plsri.fit(X0norm,Dose48norm)\n",
    "    variance_array[i-1] = 100*plsri.score(X0norm,Dose48norm)\n",
    "plt.scatter(range(1,11),variance_array)\n",
    "\n",
    "# need to use plsri.predict in order to predict -> use arbitrary thresholds to categorize into \n",
    "#plt.plot(range(1,11),line)\n",
    "plt.xlabel(\"Principal Components\")\n",
    "plt.ylabel(\"R^2\")\n",
    "plt.show()"
   ]
  },
  {
   "cell_type": "code",
   "execution_count": null,
   "metadata": {},
   "outputs": [],
   "source": []
  }
 ],
 "metadata": {
  "kernelspec": {
   "display_name": "Python 3",
   "language": "python",
   "name": "python3"
  },
  "language_info": {
   "codemirror_mode": {
    "name": "ipython",
    "version": 3
   },
   "file_extension": ".py",
   "mimetype": "text/x-python",
   "name": "python",
   "nbconvert_exporter": "python",
   "pygments_lexer": "ipython3",
   "version": "3.7.1"
  }
 },
 "nbformat": 4,
 "nbformat_minor": 2
}
